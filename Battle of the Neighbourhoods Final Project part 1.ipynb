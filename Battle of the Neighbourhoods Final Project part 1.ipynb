{
 "cells": [
  {
   "cell_type": "markdown",
   "metadata": {},
   "source": [
    "# The Battle of Neighborhoods Final Project"
   ]
  },
  {
   "cell_type": "markdown",
   "metadata": {},
   "source": [
    "## 1. Introduction/Business Problem\n",
    "\n",
    "You have just learned some new skills and now you have been headhunted by two great companies. One is located in New York and the other is in Toronto. You know you will accept one of these amazing roles, but you want to know more about the areas in these cities in order to make an informed decision. You will want to find neighbourhoods that offer great amenities and other  venues like school, gym, swimming pool, Amusement park, restaurants, coffee-shops, etc. So lets look at borough-neighbourhoods that are very similar to your current location. "
   ]
  },
  {
   "cell_type": "markdown",
   "metadata": {},
   "source": [
    "## 2. Load the Libraries and gather the Data"
   ]
  },
  {
   "cell_type": "code",
   "execution_count": 7,
   "metadata": {},
   "outputs": [
    {
     "name": "stdout",
     "output_type": "stream",
     "text": [
      "Collecting matplotlib-venn\n",
      "  Downloading matplotlib-venn-0.11.5.zip (40 kB)\n",
      "Requirement already satisfied: matplotlib in c:\\users\\mlh1c17\\anaconda3\\lib\\site-packages (from matplotlib-venn) (3.1.3)\n",
      "Requirement already satisfied: numpy in c:\\users\\mlh1c17\\anaconda3\\lib\\site-packages (from matplotlib-venn) (1.18.1)\n",
      "Requirement already satisfied: scipy in c:\\users\\mlh1c17\\anaconda3\\lib\\site-packages (from matplotlib-venn) (1.4.1)\n",
      "Requirement already satisfied: python-dateutil>=2.1 in c:\\users\\mlh1c17\\anaconda3\\lib\\site-packages (from matplotlib->matplotlib-venn) (2.8.1)\n",
      "Requirement already satisfied: cycler>=0.10 in c:\\users\\mlh1c17\\anaconda3\\lib\\site-packages (from matplotlib->matplotlib-venn) (0.10.0)\n",
      "Requirement already satisfied: kiwisolver>=1.0.1 in c:\\users\\mlh1c17\\anaconda3\\lib\\site-packages (from matplotlib->matplotlib-venn) (1.1.0)\n",
      "Requirement already satisfied: pyparsing!=2.0.4,!=2.1.2,!=2.1.6,>=2.0.1 in c:\\users\\mlh1c17\\anaconda3\\lib\\site-packages (from matplotlib->matplotlib-venn) (2.4.6)\n",
      "Requirement already satisfied: six>=1.5 in c:\\users\\mlh1c17\\anaconda3\\lib\\site-packages (from python-dateutil>=2.1->matplotlib->matplotlib-venn) (1.14.0)\n",
      "Requirement already satisfied: setuptools in c:\\users\\mlh1c17\\anaconda3\\lib\\site-packages (from kiwisolver>=1.0.1->matplotlib->matplotlib-venn) (45.2.0.post20200210)\n",
      "Building wheels for collected packages: matplotlib-venn\n",
      "  Building wheel for matplotlib-venn (setup.py): started\n",
      "  Building wheel for matplotlib-venn (setup.py): finished with status 'done'\n",
      "  Created wheel for matplotlib-venn: filename=matplotlib_venn-0.11.5-py3-none-any.whl size=32399 sha256=1f765fdfb8ac75bbfcd625278371c852fd164c6cd179ab3ac283c9b79ef6d794\n",
      "  Stored in directory: c:\\users\\mlh1c17\\appdata\\local\\pip\\cache\\wheels\\00\\81\\bf\\d39e58069f878a6cd3ac64624d8c774aaa56b46432a956157a\n",
      "Successfully built matplotlib-venn\n",
      "Installing collected packages: matplotlib-venn\n",
      "Successfully installed matplotlib-venn-0.11.5\n"
     ]
    }
   ],
   "source": [
    "import json, requests\n",
    "import numpy as np\n",
    "import pandas as pd\n",
    "pd.set_option('display.max_columns', None)\n",
    "pd.set_option('display.max_rows', None)\n",
    "from pandas.io.json import json_normalize # tranform JSON file into a pandas dataframe\n",
    "from geopy.geocoders import Nominatim\n",
    "import folium \n",
    "# Matplotlib and associated plotting modules\n",
    "import matplotlib.pyplot as plt\n",
    "import matplotlib.cm as cm\n",
    "import matplotlib.colors as colors\n",
    "!pip install matplotlib-venn\n",
    "from matplotlib_venn import venn2\n",
    "from bs4 import BeautifulSoup\n",
    "from sklearn.cluster import KMeans"
   ]
  },
  {
   "cell_type": "markdown",
   "metadata": {},
   "source": [
    "## 2.1 Reading the Data"
   ]
  },
  {
   "cell_type": "markdown",
   "metadata": {},
   "source": [
    "### 2.1.1 New York Data"
   ]
  },
  {
   "cell_type": "code",
   "execution_count": 10,
   "metadata": {},
   "outputs": [
    {
     "data": {
      "text/plain": [
       "{'type': 'Feature',\n",
       " 'id': 'nyu_2451_34572.1',\n",
       " 'geometry': {'type': 'Point',\n",
       "  'coordinates': [-73.84720052054902, 40.89470517661]},\n",
       " 'geometry_name': 'geom',\n",
       " 'properties': {'name': 'Wakefield',\n",
       "  'stacked': 1,\n",
       "  'annoline1': 'Wakefield',\n",
       "  'annoline2': None,\n",
       "  'annoline3': None,\n",
       "  'annoangle': 0.0,\n",
       "  'borough': 'Bronx',\n",
       "  'bbox': [-73.84720052054902,\n",
       "   40.89470517661,\n",
       "   -73.84720052054902,\n",
       "   40.89470517661]}}"
      ]
     },
     "execution_count": 10,
     "metadata": {},
     "output_type": "execute_result"
    }
   ],
   "source": [
    "with open('newyork_data.json') as f:\n",
    "    ny_json = json.load(f)\n",
    "\n",
    "# relevant information is in 'features' key\n",
    "ny_json = ny_json['features']\n",
    "ny_json[0]"
   ]
  },
  {
   "cell_type": "code",
   "execution_count": 11,
   "metadata": {},
   "outputs": [
    {
     "data": {
      "text/html": [
       "<div>\n",
       "<style scoped>\n",
       "    .dataframe tbody tr th:only-of-type {\n",
       "        vertical-align: middle;\n",
       "    }\n",
       "\n",
       "    .dataframe tbody tr th {\n",
       "        vertical-align: top;\n",
       "    }\n",
       "\n",
       "    .dataframe thead th {\n",
       "        text-align: right;\n",
       "    }\n",
       "</style>\n",
       "<table border=\"1\" class=\"dataframe\">\n",
       "  <thead>\n",
       "    <tr style=\"text-align: right;\">\n",
       "      <th></th>\n",
       "      <th>Borough</th>\n",
       "      <th>Neighbourhood</th>\n",
       "      <th>Latitude</th>\n",
       "      <th>Longitude</th>\n",
       "    </tr>\n",
       "  </thead>\n",
       "  <tbody>\n",
       "    <tr>\n",
       "      <th>0</th>\n",
       "      <td>Bronx</td>\n",
       "      <td>Wakefield</td>\n",
       "      <td>40.894705</td>\n",
       "      <td>-73.847201</td>\n",
       "    </tr>\n",
       "    <tr>\n",
       "      <th>1</th>\n",
       "      <td>Bronx</td>\n",
       "      <td>Co-op City</td>\n",
       "      <td>40.874294</td>\n",
       "      <td>-73.829939</td>\n",
       "    </tr>\n",
       "    <tr>\n",
       "      <th>2</th>\n",
       "      <td>Bronx</td>\n",
       "      <td>Eastchester</td>\n",
       "      <td>40.887556</td>\n",
       "      <td>-73.827806</td>\n",
       "    </tr>\n",
       "    <tr>\n",
       "      <th>3</th>\n",
       "      <td>Bronx</td>\n",
       "      <td>Fieldston</td>\n",
       "      <td>40.895437</td>\n",
       "      <td>-73.905643</td>\n",
       "    </tr>\n",
       "    <tr>\n",
       "      <th>4</th>\n",
       "      <td>Bronx</td>\n",
       "      <td>Riverdale</td>\n",
       "      <td>40.890834</td>\n",
       "      <td>-73.912585</td>\n",
       "    </tr>\n",
       "  </tbody>\n",
       "</table>\n",
       "</div>"
      ],
      "text/plain": [
       "  Borough Neighbourhood   Latitude  Longitude\n",
       "0   Bronx     Wakefield  40.894705 -73.847201\n",
       "1   Bronx    Co-op City  40.874294 -73.829939\n",
       "2   Bronx   Eastchester  40.887556 -73.827806\n",
       "3   Bronx     Fieldston  40.895437 -73.905643\n",
       "4   Bronx     Riverdale  40.890834 -73.912585"
      ]
     },
     "execution_count": 11,
     "metadata": {},
     "output_type": "execute_result"
    }
   ],
   "source": [
    "#let's make an empty dataframe and put the useful information of json data into dataframe\n",
    "cols = ['Borough', 'Neighbourhood', 'Latitude', 'Longitude']\n",
    "ny_df = pd.DataFrame(columns = cols)\n",
    "for data in ny_json:\n",
    "    borough = data['properties']['borough']\n",
    "    neigh   = data['properties']['name']\n",
    "    lat_lon = data['geometry']['coordinates'] # now it'll return list\n",
    "    lon, lat = lat_lon[0], lat_lon[1]\n",
    "    \n",
    "    ny_df = ny_df.append({'Borough': borough,'Neighbourhood': neigh, 'Latitude': lat,\n",
    "                          'Longitude': lon}, ignore_index=True)\n",
    "    \n",
    "ny_df.head()"
   ]
  },
  {
   "cell_type": "markdown",
   "metadata": {},
   "source": [
    "### 2.1.2 Toronto Data"
   ]
  },
  {
   "cell_type": "code",
   "execution_count": 13,
   "metadata": {},
   "outputs": [
    {
     "name": "stdout",
     "output_type": "stream",
     "text": [
      "Before dropping the 'Not assigned' rows, shape is:  (180, 3)\n",
      "After dropping rows where borough is \"Not assigned\", Shape is:  (103, 3)\n",
      "Number of rows where Neighbourhood is \"Not assigned\" but borough has value:  0\n",
      "Before Adding the latitude and longitue, shape is:  (103, 3)\n",
      "\n",
      "Columns of latlon are: Index(['Postal Code', 'Latitude', 'Longitude'], dtype='object'),\n",
      "So merging on 'Postal Code'\n",
      "Final Shape of data is:  (103, 5)\n"
     ]
    }
   ],
   "source": [
    "url = 'https://en.wikipedia.org/wiki/List_of_postal_codes_of_Canada:_M'\n",
    "source = requests.get(url).text\n",
    "soup = BeautifulSoup(source)\n",
    "\n",
    "table_data = soup.find('div', class_='mw-parser-output')\n",
    "table = table_data.table.tbody\n",
    "\n",
    "columns = ['Postal Code', 'Borough', 'Neighbourhood']\n",
    "data = dict({key:[]*len(columns) for key in columns})\n",
    "\n",
    "for row in table.find_all('tr'):\n",
    "    for i,column in zip(row.find_all('td'),columns):\n",
    "        i = i.text\n",
    "        i = i.replace('\\n', '')\n",
    "        data[column].append(i)\n",
    "        \n",
    "toronto_df = pd.DataFrame.from_dict(data=data)[columns]\n",
    "print(\"Before dropping the 'Not assigned' rows, shape is: \",toronto_df.shape)\n",
    "\n",
    "toronto_df = toronto_df[toronto_df['Borough'] != 'Not assigned'].reset_index(drop = True)\n",
    "print('After dropping rows where borough is \"Not assigned\", Shape is: ',toronto_df.shape)\n",
    "print('Number of rows where Neighbourhood is \"Not assigned\" but borough has value: ', \n",
    "      toronto_df[toronto_df['Neighbourhood'] == 'Not assigned'].shape[0])\n",
    "\n",
    "# making corresponding Borough as Neighbourhood: where Neighbourhood is 'Not assigend'\n",
    "p, b, n = [], [], []\n",
    "for postcode, borough, neigh in zip(toronto_df['Postal Code'], toronto_df['Borough'], toronto_df['Neighbourhood']):\n",
    "    p.append(postcode)\n",
    "    b.append(borough)\n",
    "    if neigh == 'Not assigned':\n",
    "        n.append(borough)\n",
    "    else:\n",
    "        n.append(neigh)\n",
    "\n",
    "toronto_df = pd.DataFrame({'Postal Code': p, 'Borough': b, 'Neighbourhood':n})[columns]\n",
    "\n",
    "#merging the rows, where Postal Code and Borough is same and Neighbourhoods will be seperated by ','\n",
    "# :https://stackoverflow.com/a/27298308\n",
    "toronto_df = toronto_df.groupby(['Postal Code', 'Borough'])['Neighbourhood'].apply(', '.join).reset_index()\n",
    "print('Before Adding the latitude and longitue, shape is: ',toronto_df.shape)\n",
    "\n",
    "latlon = pd.read_csv('Geospatial_Coordinates.csv')\n",
    "#mergign the latitude and longitude\n",
    "print(\"\\nColumns of latlon are: {},\\nSo merging on '{}'\".format(latlon.columns, latlon.columns[0]))\n",
    "toronto_df = pd.merge(toronto_df, latlon, how= 'inner', on = 'Postal Code')\n",
    "print('Final Shape of data is: ', toronto_df.shape)"
   ]
  },
  {
   "cell_type": "code",
   "execution_count": 14,
   "metadata": {},
   "outputs": [
    {
     "data": {
      "text/html": [
       "<div>\n",
       "<style scoped>\n",
       "    .dataframe tbody tr th:only-of-type {\n",
       "        vertical-align: middle;\n",
       "    }\n",
       "\n",
       "    .dataframe tbody tr th {\n",
       "        vertical-align: top;\n",
       "    }\n",
       "\n",
       "    .dataframe thead th {\n",
       "        text-align: right;\n",
       "    }\n",
       "</style>\n",
       "<table border=\"1\" class=\"dataframe\">\n",
       "  <thead>\n",
       "    <tr style=\"text-align: right;\">\n",
       "      <th></th>\n",
       "      <th>Postal Code</th>\n",
       "      <th>Borough</th>\n",
       "      <th>Neighbourhood</th>\n",
       "      <th>Latitude</th>\n",
       "      <th>Longitude</th>\n",
       "    </tr>\n",
       "  </thead>\n",
       "  <tbody>\n",
       "    <tr>\n",
       "      <th>0</th>\n",
       "      <td>M1B</td>\n",
       "      <td>Scarborough</td>\n",
       "      <td>Malvern, Rouge</td>\n",
       "      <td>43.806686</td>\n",
       "      <td>-79.194353</td>\n",
       "    </tr>\n",
       "    <tr>\n",
       "      <th>1</th>\n",
       "      <td>M1C</td>\n",
       "      <td>Scarborough</td>\n",
       "      <td>Rouge Hill, Port Union, Highland Creek</td>\n",
       "      <td>43.784535</td>\n",
       "      <td>-79.160497</td>\n",
       "    </tr>\n",
       "    <tr>\n",
       "      <th>2</th>\n",
       "      <td>M1E</td>\n",
       "      <td>Scarborough</td>\n",
       "      <td>Guildwood, Morningside, West Hill</td>\n",
       "      <td>43.763573</td>\n",
       "      <td>-79.188711</td>\n",
       "    </tr>\n",
       "    <tr>\n",
       "      <th>3</th>\n",
       "      <td>M1G</td>\n",
       "      <td>Scarborough</td>\n",
       "      <td>Woburn</td>\n",
       "      <td>43.770992</td>\n",
       "      <td>-79.216917</td>\n",
       "    </tr>\n",
       "    <tr>\n",
       "      <th>4</th>\n",
       "      <td>M1H</td>\n",
       "      <td>Scarborough</td>\n",
       "      <td>Cedarbrae</td>\n",
       "      <td>43.773136</td>\n",
       "      <td>-79.239476</td>\n",
       "    </tr>\n",
       "    <tr>\n",
       "      <th>5</th>\n",
       "      <td>M1J</td>\n",
       "      <td>Scarborough</td>\n",
       "      <td>Scarborough Village</td>\n",
       "      <td>43.744734</td>\n",
       "      <td>-79.239476</td>\n",
       "    </tr>\n",
       "    <tr>\n",
       "      <th>6</th>\n",
       "      <td>M1K</td>\n",
       "      <td>Scarborough</td>\n",
       "      <td>Kennedy Park, Ionview, East Birchmount Park</td>\n",
       "      <td>43.727929</td>\n",
       "      <td>-79.262029</td>\n",
       "    </tr>\n",
       "    <tr>\n",
       "      <th>7</th>\n",
       "      <td>M1L</td>\n",
       "      <td>Scarborough</td>\n",
       "      <td>Golden Mile, Clairlea, Oakridge</td>\n",
       "      <td>43.711112</td>\n",
       "      <td>-79.284577</td>\n",
       "    </tr>\n",
       "    <tr>\n",
       "      <th>8</th>\n",
       "      <td>M1M</td>\n",
       "      <td>Scarborough</td>\n",
       "      <td>Cliffside, Cliffcrest, Scarborough Village West</td>\n",
       "      <td>43.716316</td>\n",
       "      <td>-79.239476</td>\n",
       "    </tr>\n",
       "    <tr>\n",
       "      <th>9</th>\n",
       "      <td>M1N</td>\n",
       "      <td>Scarborough</td>\n",
       "      <td>Birch Cliff, Cliffside West</td>\n",
       "      <td>43.692657</td>\n",
       "      <td>-79.264848</td>\n",
       "    </tr>\n",
       "  </tbody>\n",
       "</table>\n",
       "</div>"
      ],
      "text/plain": [
       "  Postal Code      Borough                                    Neighbourhood  \\\n",
       "0         M1B  Scarborough                                   Malvern, Rouge   \n",
       "1         M1C  Scarborough           Rouge Hill, Port Union, Highland Creek   \n",
       "2         M1E  Scarborough                Guildwood, Morningside, West Hill   \n",
       "3         M1G  Scarborough                                           Woburn   \n",
       "4         M1H  Scarborough                                        Cedarbrae   \n",
       "5         M1J  Scarborough                              Scarborough Village   \n",
       "6         M1K  Scarborough      Kennedy Park, Ionview, East Birchmount Park   \n",
       "7         M1L  Scarborough                  Golden Mile, Clairlea, Oakridge   \n",
       "8         M1M  Scarborough  Cliffside, Cliffcrest, Scarborough Village West   \n",
       "9         M1N  Scarborough                      Birch Cliff, Cliffside West   \n",
       "\n",
       "    Latitude  Longitude  \n",
       "0  43.806686 -79.194353  \n",
       "1  43.784535 -79.160497  \n",
       "2  43.763573 -79.188711  \n",
       "3  43.770992 -79.216917  \n",
       "4  43.773136 -79.239476  \n",
       "5  43.744734 -79.239476  \n",
       "6  43.727929 -79.262029  \n",
       "7  43.711112 -79.284577  \n",
       "8  43.716316 -79.239476  \n",
       "9  43.692657 -79.264848  "
      ]
     },
     "execution_count": 14,
     "metadata": {},
     "output_type": "execute_result"
    }
   ],
   "source": [
    "toronto_df.head(10)"
   ]
  },
  {
   "cell_type": "markdown",
   "metadata": {},
   "source": [
    "## 2.2 Getting Venues USing Foursquare API"
   ]
  },
  {
   "cell_type": "code",
   "execution_count": 20,
   "metadata": {},
   "outputs": [
    {
     "name": "stdout",
     "output_type": "stream",
     "text": [
      "Your credentails:\n",
      "CLIENT_ID: LV5QEBRRP4YADRFG2I43IPEFFYID3IKOGBIMLNHSW4U234T4\n",
      "CLIENT_SECRET: TZKVRLFGNLVDEAEJFXALH2XKNLVZBKO0CCSVQN2O2BO3QLRR\n"
     ]
    }
   ],
   "source": [
    "CLIENT_ID = 'LV5QEBRRP4YADRFG2I43IPEFFYID3IKOGBIMLNHSW4U234T4' # your Foursquare ID\n",
    "CLIENT_SECRET = 'TZKVRLFGNLVDEAEJFXALH2XKNLVZBKO0CCSVQN2O2BO3QLRR' # your Foursquare Secret\n",
    "VERSION = '20180605' # Foursquare API version\n",
    "LIMIT = 100\n",
    "\n",
    "print('Your credentails:')\n",
    "print('CLIENT_ID: ' + CLIENT_ID)\n",
    "print('CLIENT_SECRET: ' + CLIENT_SECRET)"
   ]
  }
 ],
 "metadata": {
  "kernelspec": {
   "display_name": "Python 3",
   "language": "python",
   "name": "python3"
  },
  "language_info": {
   "codemirror_mode": {
    "name": "ipython",
    "version": 3
   },
   "file_extension": ".py",
   "mimetype": "text/x-python",
   "name": "python",
   "nbconvert_exporter": "python",
   "pygments_lexer": "ipython3",
   "version": "3.7.6"
  }
 },
 "nbformat": 4,
 "nbformat_minor": 4
}
